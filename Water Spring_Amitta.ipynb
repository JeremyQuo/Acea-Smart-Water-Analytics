{
 "cells": [
  {
   "cell_type": "code",
   "execution_count": 2,
   "metadata": {},
   "outputs": [],
   "source": [
    "import pandas as pd\n",
    "from datetime import datetime\n",
    "import numpy as np\n",
    "import scipy\n",
    "import seaborn as sns\n",
    "import matplotlib.pyplot as plt"
   ]
  },
  {
   "cell_type": "code",
   "execution_count": 3,
   "metadata": {},
   "outputs": [],
   "source": [
    "Amiata = pd.read_csv(\"Water_Spring_Amiata.csv\")\n",
    "Lupa = pd.read_csv(\"Water_Spring_Lupa.csv\")\n",
    "Madonna = pd.read_csv(\"Water_Spring_Madonna_di_Canneto.csv\")"
   ]
  },
  {
   "cell_type": "code",
   "execution_count": 4,
   "metadata": {},
   "outputs": [
    {
     "name": "stdout",
     "output_type": "stream",
     "text": [
      "<class 'pandas.core.frame.DataFrame'>\n",
      "RangeIndex: 7487 entries, 0 to 7486\n",
      "Data columns (total 16 columns):\n",
      " #   Column                                 Non-Null Count  Dtype  \n",
      "---  ------                                 --------------  -----  \n",
      " 0   Date                                   7487 non-null   object \n",
      " 1   Rainfall_Castel_del_Piano              6291 non-null   float64\n",
      " 2   Rainfall_Abbadia_S_Salvatore           3586 non-null   float64\n",
      " 3   Rainfall_S_Fiora                       2633 non-null   float64\n",
      " 4   Rainfall_Laghetto_Verde                2865 non-null   float64\n",
      " 5   Rainfall_Vetta_Amiata                  2212 non-null   float64\n",
      " 6   Depth_to_Groundwater_S_Fiora_8         3569 non-null   float64\n",
      " 7   Depth_to_Groundwater_S_Fiora_11bis     3594 non-null   float64\n",
      " 8   Depth_to_Groundwater_David_Lazzaretti  3242 non-null   float64\n",
      " 9   Temperature_Abbadia_S_Salvatore        3583 non-null   float64\n",
      " 10  Temperature_S_Fiora                    7487 non-null   float64\n",
      " 11  Temperature_Laghetto_Verde             3604 non-null   float64\n",
      " 12  Flow_Rate_Bugnano                      2008 non-null   float64\n",
      " 13  Flow_Rate_Arbure                       2008 non-null   float64\n",
      " 14  Flow_Rate_Ermicciolo                   2008 non-null   float64\n",
      " 15  Flow_Rate_Galleria_Alta                2008 non-null   float64\n",
      "dtypes: float64(15), object(1)\n",
      "memory usage: 936.0+ KB\n"
     ]
    }
   ],
   "source": [
    "Amiata.info()"
   ]
  },
  {
   "cell_type": "code",
   "execution_count": 5,
   "metadata": {},
   "outputs": [],
   "source": [
    "Amiata['date'] = pd.to_datetime(Amiata['Date'], format='%d/%m/%Y')\n",
    "Amiata = Amiata[Amiata['date'].notna()]"
   ]
  },
  {
   "cell_type": "code",
   "execution_count": null,
   "metadata": {},
   "outputs": [],
   "source": [
    "#插值法弥补Depth缺失值\n",
    "data['Depth_to_Groundwater_S_Fiora_8']= data['Depth_to_Groundwater_S_Fiora_8'].interpolate()\n",
    "data['Depth_to_Groundwater_S_Fiora_11bis']= data['Depth_to_Groundwater_S_Fiora_11bis'].interpolate()\n",
    "data['Depth_to_Groundwater_David_Lazzaretti']= data['Depth_to_Groundwater_David_Lazzaretti'].interpolate()"
   ]
  },
  {
   "cell_type": "code",
   "execution_count": null,
   "metadata": {},
   "outputs": [],
   "source": []
  }
 ],
 "metadata": {
  "kernelspec": {
   "display_name": "Python [conda env:pytorch_gpu] *",
   "language": "python",
   "name": "conda-env-pytorch_gpu-py"
  },
  "language_info": {
   "codemirror_mode": {
    "name": "ipython",
    "version": 3
   },
   "file_extension": ".py",
   "mimetype": "text/x-python",
   "name": "python",
   "nbconvert_exporter": "python",
   "pygments_lexer": "ipython3",
   "version": "3.7.9"
  }
 },
 "nbformat": 4,
 "nbformat_minor": 4
}
